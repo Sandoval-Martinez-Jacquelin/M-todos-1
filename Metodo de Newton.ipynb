{
  "nbformat": 4,
  "nbformat_minor": 0,
  "metadata": {
    "colab": {
      "provenance": [],
      "authorship_tag": "ABX9TyNxlQlJDK4Cv8kaOWXBp2I5",
      "include_colab_link": true
    },
    "kernelspec": {
      "name": "python3",
      "display_name": "Python 3"
    },
    "language_info": {
      "name": "python"
    }
  },
  "cells": [
    {
      "cell_type": "markdown",
      "metadata": {
        "id": "view-in-github",
        "colab_type": "text"
      },
      "source": [
        "<a href=\"https://colab.research.google.com/github/Sandoval-Martinez-Jacquelin/Metodos-1/blob/main/Metodo%20de%20Newton.ipynb\" target=\"_parent\"><img src=\"https://colab.research.google.com/assets/colab-badge.svg\" alt=\"Open In Colab\"/></a>"
      ]
    },
    {
      "cell_type": "code",
      "execution_count": 30,
      "metadata": {
        "id": "VQqxpxFd6xW9"
      },
      "outputs": [],
      "source": [
        "from math import *\n",
        "import numpy as np\n",
        "\n"
      ]
    },
    {
      "cell_type": "code",
      "source": [
        "import sympy as sp\n",
        "x=sp.Symbol(\"x\")#crea la variable x\n",
        "funcion=x**3-x-1#input(\"Escriba la funcion(variable x) \")\n",
        "derivada=sp.diff(funcion,x)#calculo de la derivada de la funcion\n",
        "funcion=sp.lambdify(x,funcion)#convierte la expresion SymPy en funcion para realizar las evaluaciones\n",
        "derivada=sp.lambdify(x,derivada)#convierte la expresion SymPy de la derivada en funcion para realizar las evaluaciones\n",
        "\n"
      ],
      "metadata": {
        "id": "yHPxLL-S-58l"
      },
      "execution_count": 59,
      "outputs": []
    },
    {
      "cell_type": "code",
      "source": [
        "#Ingreso de la aproximacion incial\n",
        "p0=1.5#float(input(\"Ingrese la aproximacion inicial Po= \"))\n",
        "#guarda los valores iniciales de error y numero de iteraciones\n",
        "tol=0.01#float(input(\"Ingrese el valor de la tolerancia= \"))\n",
        "nmax=100#int(input(\"Ingrese el numero maximo de iteraciones= \"))\n",
        "niter=0\n"
      ],
      "metadata": {
        "id": "TC2QxImz7vA0"
      },
      "execution_count": 90,
      "outputs": []
    },
    {
      "cell_type": "code",
      "source": [
        "#Metodo de Newton\n",
        "#Calculo de la primera aproximacion\n",
        "p=p0-(funcion(p0)/derivada(p0))\n",
        "error=abs(p-p0)\n",
        "print(\"# iter\\t\\t Pn-1 \\t\\t f(Pn-1) \\t\\t f´(Pn-1) \\t\\t Pn \\t\\t error\")\n",
        "print(\"{0} \\t\\t{1:6.3f} \\t\\t{2:6.3f} \\t\\t\\t{3:6.3f} \\t\\t\\t{4:6.3f}  \\t {5:6.3f} \".format(niter,p0,funcion(p0),derivada(p0),p,error))\n",
        "p0=p\n",
        "#ciclo iterativo\n",
        "while error>tol and niter<nmax:\n",
        "  p=p0-(funcion(p0)/derivada(p0))\n",
        "  error=abs(p-p0)\n",
        "  niter+=1\n",
        "  print(\"{0} \\t\\t{1:6.3f} \\t\\t{2:6.3f} \\t\\t\\t{3:6.3f} \\t\\t\\t{4:6.3f}  \\t {5:6.3f} \".format(niter,p0,funcion(p0),derivada(p0),p,error))\n",
        "  p0=p\n",
        "\n",
        "print(\"La raiz de la funcion en el intervalo es {0:.3f}\".format(p))"
      ],
      "metadata": {
        "colab": {
          "base_uri": "https://localhost:8080/"
        },
        "id": "y1dsUGyx8Qvz",
        "outputId": "0a258010-f325-4c25-e7e6-9fce4dcbcd5c"
      },
      "execution_count": 91,
      "outputs": [
        {
          "output_type": "stream",
          "name": "stdout",
          "text": [
            "# iter\t\t Pn-1 \t\t f(Pn-1) \t\t f´(Pn-1) \t\t Pn \t\t error\n",
            "0 \t\t 1.500 \t\t 0.875 \t\t\t 5.750 \t\t\t 1.348  \t  0.152 \n",
            "1 \t\t 1.348 \t\t 0.101 \t\t\t 4.450 \t\t\t 1.325  \t  0.023 \n",
            "2 \t\t 1.325 \t\t 0.002 \t\t\t 4.268 \t\t\t 1.325  \t  0.000 \n",
            "La raiz de la funcion en el intervalo es 1.325\n"
          ]
        }
      ]
    }
  ]
}