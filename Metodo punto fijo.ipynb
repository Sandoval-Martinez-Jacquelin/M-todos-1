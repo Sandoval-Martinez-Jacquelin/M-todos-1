{
  "nbformat": 4,
  "nbformat_minor": 0,
  "metadata": {
    "colab": {
      "provenance": [],
      "authorship_tag": "ABX9TyOf5HZZy8L3KFG5uklw+vYJ",
      "include_colab_link": true
    },
    "kernelspec": {
      "name": "python3",
      "display_name": "Python 3"
    },
    "language_info": {
      "name": "python"
    }
  },
  "cells": [
    {
      "cell_type": "markdown",
      "metadata": {
        "id": "view-in-github",
        "colab_type": "text"
      },
      "source": [
        "<a href=\"https://colab.research.google.com/github/Sandoval-Martinez-Jacquelin/Metodos-1/blob/main/Metodo%20punto%20fijo.ipynb\" target=\"_parent\"><img src=\"https://colab.research.google.com/assets/colab-badge.svg\" alt=\"Open In Colab\"/></a>"
      ]
    },
    {
      "cell_type": "code",
      "execution_count": 36,
      "metadata": {
        "id": "vN2YZdXkQXxc"
      },
      "outputs": [],
      "source": [
        "from math import *\n",
        "import numpy as np\n",
        "import matplotlib . pyplot as plt"
      ]
    },
    {
      "cell_type": "code",
      "source": [
        "def funcion1(x):#escribimos la funcion original del problema\n",
        "  return x**3-x-1"
      ],
      "metadata": {
        "id": "KttU_EuLQjLU"
      },
      "execution_count": 37,
      "outputs": []
    },
    {
      "cell_type": "code",
      "source": [
        "print(\"f(1)= \",funcion1(1),\",f(2)= \",funcion1(2))#f(1) y f(2) no pertenencen a [1,2]"
      ],
      "metadata": {
        "colab": {
          "base_uri": "https://localhost:8080/"
        },
        "id": "yzoYH4k4RSu6",
        "outputId": "bc889645-5ff4-4c7e-ff1d-87088dca9a2d"
      },
      "execution_count": 38,
      "outputs": [
        {
          "output_type": "stream",
          "name": "stdout",
          "text": [
            "f(1)=  -1 ,f(2)=  5\n"
          ]
        }
      ]
    },
    {
      "cell_type": "code",
      "source": [
        "def g(x):#Reescribimos la funcion1 para encontrar un punto fijo\n",
        "  return sqrt(1+(1/x))"
      ],
      "metadata": {
        "id": "6pldlp0jR9st"
      },
      "execution_count": 43,
      "outputs": []
    },
    {
      "cell_type": "code",
      "source": [
        "#Ingreso de la aproximacion incial\n",
        "p0=1.5#float(input(\"Ingrese la aproximacion inicial Po= \"))\n",
        "p=p0\n",
        "#guarda los valores iniciales de error y numero de iteraciones\n",
        "tol=0.01#float(input(\"Ingrese el valor de la tolerancia= \"))\n",
        "nmax=100#int(input(\"Ingrese el numer maximo de iteraciones= \"))\n",
        "error=100\n",
        "niter=0"
      ],
      "metadata": {
        "id": "tBkw--6OVIgm"
      },
      "execution_count": 81,
      "outputs": []
    },
    {
      "cell_type": "code",
      "source": [
        "#Metodo de punto fijo\n",
        "#evaluacion de la aproximacion incial en la funcion g\n",
        "g(p0)\n",
        "print(\"# iter\\t\\t p \\t\\t g(p) \\t\\t error\")\n",
        "print(\"{0} \\t\\t {1:6.3f} \\t {2:6.3f} \\t {3:6.3f}\".format(niter, p, g(p0), error ))\n",
        "#ciclo iterativo\n",
        "while error>tol and niter<nmax:\n",
        "  p=g(p0)\n",
        "  error=abs(p-p0)\n",
        "  niter+=1\n",
        "  p0=p\n",
        "  print(\"{0} \\t\\t {1:6.3f} \\t {2:6.3f} \\t {3:6.3f}\".format(niter, p, g(p0), error ))\n",
        "\n",
        "print(\"La raiz de la funcion en el intervalo \")"
      ],
      "metadata": {
        "colab": {
          "base_uri": "https://localhost:8080/"
        },
        "id": "JOMz_7TgWu1g",
        "outputId": "929c9447-77a2-469d-9694-00dd37a258b7"
      },
      "execution_count": 82,
      "outputs": [
        {
          "output_type": "stream",
          "name": "stdout",
          "text": [
            "# iter\t\t p \t\t g(p) \t\t error\n",
            "0 \t\t  1.500 \t  1.291 \t 100.000\n",
            "1 \t\t  1.291 \t  1.332 \t  0.209\n",
            "2 \t\t  1.332 \t  1.323 \t  0.041\n",
            "3 \t\t  1.323 \t  1.325 \t  0.009\n",
            "La raiz de la funcion en el intervalo \n"
          ]
        }
      ]
    }
  ]
}